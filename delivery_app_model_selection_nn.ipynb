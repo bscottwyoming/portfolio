{
 "cells": [
  {
   "cell_type": "code",
   "execution_count": null,
   "id": "standard-neutral",
   "metadata": {},
   "outputs": [],
   "source": [
    "# This is a model selction notebook for predicting delivery times using nueral network training w TensorFlow"
   ]
  },
  {
   "cell_type": "code",
   "execution_count": 85,
   "id": "governmental-softball",
   "metadata": {},
   "outputs": [
    {
     "data": {
      "text/plain": [
       "'\\nsome code attribution \\n1. Raschka, S. (2015). Python Machine Learning. Birmingham, England: Packt Publishing.\\n2. Lopez de Prado, M. (2018). Advances in financial machine learning. Nashville, TN: John Wiley & Sons.\\n3. Hull, J.C. (2019). Machine Learning in Business.  \\n\\n'"
      ]
     },
     "execution_count": 85,
     "metadata": {},
     "output_type": "execute_result"
    }
   ],
   "source": [
    "\"\"\"\n",
    "some code attribution \n",
    "1. Raschka, S. (2015). Python Machine Learning. Birmingham, England: Packt Publishing.\n",
    "2. Lopez de Prado, M. (2018). Advances in financial machine learning. Nashville, TN: John Wiley & Sons.\n",
    "3. Hull, J.C. (2019). Machine Learning in Business.  \n",
    "\n",
    "\"\"\""
   ]
  },
  {
   "cell_type": "code",
   "execution_count": 95,
   "id": "about-consciousness",
   "metadata": {},
   "outputs": [],
   "source": [
    "# imports\n",
    "import os\n",
    "import numpy as np\n",
    "import matplotlib.pyplot as plt\n",
    "import pandas as pd\n",
    "from time import time\n",
    "from sklearn.model_selection import train_test_split\n",
    "from scipy.stats import norm\n",
    "from sklearn.preprocessing import RobustScaler"
   ]
  },
  {
   "cell_type": "code",
   "execution_count": 96,
   "id": "herbal-dancing",
   "metadata": {},
   "outputs": [],
   "source": [
    "import tensorflow as tf\n",
    "from tensorflow.keras.layers import Dense\n",
    "from tensorflow import keras"
   ]
  },
  {
   "cell_type": "code",
   "execution_count": 97,
   "id": "rough-manhattan",
   "metadata": {},
   "outputs": [
    {
     "name": "stdout",
     "output_type": "stream",
     "text": [
      "X_scaled_train dataframe is:  (157942, 90)\n",
      "y_train dataframe is:  (157942, 1)\n",
      "X_scaled_test dataframe is:  (39486, 90)\n",
      "y_test dataframe is:  (39486, 1)\n"
     ]
    }
   ],
   "source": [
    "# load data\n",
    "DATA_FOLDER = 'C:/Users/bscot/OneDrive/Documents/DoorDash/DoorDash2'\n",
    "data = pd.read_csv(os.path.join(DATA_FOLDER, 'historical_imputed.csv'))\n",
    "X1 = data.drop('total delivery duration seconds', axis=1)\n",
    "transformer = RobustScaler().fit(X1)\n",
    "X2 = transformer.transform(X1)\n",
    "X = pd.DataFrame(X2, columns = X1.columns)\n",
    "y = data[['total delivery duration seconds']]\n",
    "\n",
    "# divide data into training set and test set for holdout method\n",
    "X_train_scaled,X_test_scaled,y_train,y_test=train_test_split(X,y,test_size=0.20,random_state=100)\n",
    "\n",
    "print('X_scaled_train dataframe is: ',X_train_scaled.shape)\n",
    "print('y_train dataframe is: ',y_train.shape)\n",
    "print('X_scaled_test dataframe is: ',X_test_scaled.shape)\n",
    "print('y_test dataframe is: ',y_test.shape)"
   ]
  },
  {
   "cell_type": "code",
   "execution_count": 98,
   "id": "measured-amendment",
   "metadata": {},
   "outputs": [],
   "source": [
    "# check contents\n",
    "X_train_scaled = pd.DataFrame(X_train_scaled, columns = X1.columns)\n",
    "X_test_scaled = pd.DataFrame(X_test_scaled, columns = X1.columns)\n",
    "y_train = pd.DataFrame(y_train, columns = y.columns)\n",
    "y_test = pd.DataFrame(y_test, columns = y.columns)\n",
    "#print(X_scaled_train.head(10))\n",
    "#print(X_scaled_test.head(10))\n",
    "#print(y_train.head(10))\n",
    "#print(y_test.head(10))"
   ]
  },
  {
   "cell_type": "code",
   "execution_count": 99,
   "id": "external-metadata",
   "metadata": {},
   "outputs": [
    {
     "name": "stdout",
     "output_type": "stream",
     "text": [
      "Model: \"sequential_5\"\n",
      "_________________________________________________________________\n",
      "Layer (type)                 Output Shape              Param #   \n",
      "=================================================================\n",
      "dense_20 (Dense)             (None, 20)                1820      \n",
      "_________________________________________________________________\n",
      "dense_21 (Dense)             (None, 20)                420       \n",
      "_________________________________________________________________\n",
      "dense_22 (Dense)             (None, 20)                420       \n",
      "_________________________________________________________________\n",
      "dense_23 (Dense)             (None, 1)                 21        \n",
      "=================================================================\n",
      "Total params: 2,681\n",
      "Trainable params: 2,681\n",
      "Non-trainable params: 0\n",
      "_________________________________________________________________\n"
     ]
    }
   ],
   "source": [
    "# define model\n",
    "perceptron_model = keras.models.Sequential([Dense(20,activation = \"sigmoid\",input_shape = (90,)),\n",
    "                                             Dense(20,activation = \"sigmoid\"),Dense(20,activation = \"sigmoid\"),\n",
    "                                                Dense(1)])\n",
    "\n",
    "perceptron_model.summary()"
   ]
  },
  {
   "cell_type": "code",
   "execution_count": 100,
   "id": "thirty-experience",
   "metadata": {},
   "outputs": [],
   "source": [
    "# compile model\n",
    "perceptron_model.compile(optimizer='adam', loss='mae')"
   ]
  },
  {
   "cell_type": "code",
   "execution_count": 101,
   "id": "turkish-chance",
   "metadata": {},
   "outputs": [],
   "source": [
    "# save checkpoints\n",
    "checkpoint = keras.callbacks.ModelCheckpoint(\"best_model\", save_best_only = True)\n",
    "# early stopping trigger\n",
    "kickout = keras.callbacks.EarlyStopping(patience = 100, restore_best_weights = True)"
   ]
  },
  {
   "cell_type": "code",
   "execution_count": 103,
   "id": "altered-contamination",
   "metadata": {},
   "outputs": [
    {
     "name": "stdout",
     "output_type": "stream",
     "text": [
      "done in 396.298s\n"
     ]
    }
   ],
   "source": [
    "t0_nn = time()\n",
    "# train model \n",
    "num_epochs = 3000\n",
    "training_size = 100\n",
    "batch_size = 2\n",
    "steps_per_epoch = np.ceil(training_size/batch_size)\n",
    "# data set length must be >= (training/batch)*epochs\n",
    "#\n",
    "history=perceptron_model.fit(X_train_scaled,y_train,\n",
    "                             epochs=num_epochs,\n",
    "                             steps_per_epoch=steps_per_epoch,\n",
    "                             #callbacks=[checkpoint,kickout],\n",
    "                             verbose=0)\n",
    "\n",
    "print(\"done in %0.3fs\" % (time() - t0_nn))"
   ]
  },
  {
   "cell_type": "code",
   "execution_count": 104,
   "id": "greatest-internet",
   "metadata": {},
   "outputs": [
    {
     "data": {
      "image/png": "[encoded data removed]",
      "text/plain": [
       "<Figure size 864x360 with 1 Axes>"
      ]
     },
     "metadata": {
      "needs_background": "light"
     },
     "output_type": "display_data"
    }
   ],
   "source": [
    "# visualize learning curve\n",
    "hist = history.history\n",
    "fig = plt.figure(figsize=(12,5))\n",
    "ax = fig.add_subplot(1,2,1)\n",
    "ax.plot(hist['loss'],lw=1)\n",
    "ax.set_title('Training Loss',size=15)\n",
    "ax.set_xlabel('Epoch',size=10)\n",
    "ax.set_ylabel('RMSE',size=10)\n",
    "ax.tick_params(axis='both',which='major',labelsize=15)\n",
    "#\n",
    "plt.show()"
   ]
  },
  {
   "cell_type": "code",
   "execution_count": 106,
   "id": "korean-jewel",
   "metadata": {},
   "outputs": [
    {
     "name": "stdout",
     "output_type": "stream",
     "text": [
      "Neural network RMSE on test set: 801.0652465820312\n"
     ]
    }
   ],
   "source": [
    "# eval trained model on test set\n",
    "mae_nn_test = perceptron_model.evaluate(X_test_scaled,y_test,verbose=0)\n",
    "print('Neural network RMSE on test set:', mae_nn_test)"
   ]
  },
  {
   "cell_type": "code",
   "execution_count": 107,
   "id": "compact-establishment",
   "metadata": {},
   "outputs": [],
   "source": [
    "# Use Lasso for feature reduction\n",
    "# Use PCA for feature reduction "
   ]
  },
  {
   "cell_type": "code",
   "execution_count": 108,
   "id": "collective-holmes",
   "metadata": {},
   "outputs": [
    {
     "name": "stderr",
     "output_type": "stream",
     "text": [
      "C:\\Users\\bscot\\anaconda3\\lib\\site-packages\\sklearn\\utils\\validation.py:72: DataConversionWarning: A column-vector y was passed when a 1d array was expected. Please change the shape of y to (n_samples, ), for example using ravel().\n",
      "  return f(**kwargs)\n"
     ]
    },
    {
     "data": {
      "image/png": "[encoded data removed]",
      "text/plain": [
       "<Figure size 432x288 with 1 Axes>"
      ]
     },
     "metadata": {
      "needs_background": "light"
     },
     "output_type": "display_data"
    },
    {
     "name": "stdout",
     "output_type": "stream",
     "text": [
      "n lasso features greater than zero: 52\n"
     ]
    }
   ],
   "source": [
    "# lasso reduction\n",
    "from sklearn.linear_model import LassoCV\n",
    "\n",
    "lasso = LassoCV().fit(X_train_scaled, y_train)\n",
    "importance = np.abs(lasso.coef_)\n",
    "feature_names = np.array(X_train_scaled.columns)\n",
    "plt.bar(height=importance, x=feature_names)\n",
    "plt.xticks(rotation=90)\n",
    "plt.title(\"Feature importances via coefficients\")\n",
    "plt.show()\n",
    "print('n lasso features greater than zero:',(importance>0).sum())"
   ]
  },
  {
   "cell_type": "code",
   "execution_count": 109,
   "id": "oriented-surgery",
   "metadata": {},
   "outputs": [
    {
     "name": "stderr",
     "output_type": "stream",
     "text": [
      "C:\\Users\\bscot\\anaconda3\\lib\\site-packages\\sklearn\\utils\\validation.py:72: DataConversionWarning: A column-vector y was passed when a 1d array was expected. Please change the shape of y to (n_samples, ), for example using ravel().\n",
      "  return f(**kwargs)\n"
     ]
    },
    {
     "name": "stdout",
     "output_type": "stream",
     "text": [
      "Features selected by SelectFromModel: ['market_id' 'store_id' 'order_protocol' 'total_items' 'subtotal'\n",
      " 'num_distinct_items' 'min_item_price' 'max_item_price'\n",
      " 'total_onshift_dashers' 'total_busy_dashers' 'total_outstanding_orders'\n",
      " 'estimated_order_place_duration'\n",
      " 'estimated_store_to_consumer_driving_duration' 'Day of Week'\n",
      " 'Hour of Day' '2' '4' '6' '7' '9' '10' '12' '13' '15' '17' '18' '20' '23'\n",
      " '24' '25' '28' '30' '34' '35' '36' '40' '41' '46' '47' '48' '50' '51'\n",
      " '52' '55' '57' '59' '60' '61' '69' '70' '73' '74']\n",
      "Done in 3.448s\n"
     ]
    }
   ],
   "source": [
    "# cull nonzero lasso features\n",
    "from sklearn.feature_selection import SelectFromModel\n",
    "\n",
    "threshold = np.sort(importance)[-52] \n",
    "\n",
    "tic = time()\n",
    "sfm = SelectFromModel(lasso, threshold=threshold).fit(X_train_scaled, y_train)\n",
    "toc = time()\n",
    "print(\"Features selected by SelectFromModel: \"\n",
    "      f\"{feature_names[sfm.get_support()]}\")\n",
    "print(f\"Done in {toc - tic:.3f}s\")"
   ]
  },
  {
   "cell_type": "code",
   "execution_count": 111,
   "id": "supreme-boating",
   "metadata": {},
   "outputs": [
    {
     "name": "stdout",
     "output_type": "stream",
     "text": [
      "(157942, 52)\n",
      "(39486, 52)\n"
     ]
    }
   ],
   "source": [
    "#\n",
    "lasso_list = list(feature_names[sfm.get_support()])\n",
    "X_train_scaled_lasso = X_train_scaled[lasso_list]\n",
    "print(X_train_scaled_lasso.shape)\n",
    "X_test_scaled_lasso = X_test_scaled[lasso_list]\n",
    "print(X_test_scaled_lasso.shape)"
   ]
  },
  {
   "cell_type": "code",
   "execution_count": 112,
   "id": "eligible-homeless",
   "metadata": {},
   "outputs": [
    {
     "name": "stdout",
     "output_type": "stream",
     "text": [
      "Model: \"sequential_5\"\n",
      "_________________________________________________________________\n",
      "Layer (type)                 Output Shape              Param #   \n",
      "=================================================================\n",
      "dense_20 (Dense)             (None, 20)                1820      \n",
      "_________________________________________________________________\n",
      "dense_21 (Dense)             (None, 20)                420       \n",
      "_________________________________________________________________\n",
      "dense_22 (Dense)             (None, 20)                420       \n",
      "_________________________________________________________________\n",
      "dense_23 (Dense)             (None, 1)                 21        \n",
      "=================================================================\n",
      "Total params: 2,681\n",
      "Trainable params: 2,681\n",
      "Non-trainable params: 0\n",
      "_________________________________________________________________\n"
     ]
    }
   ],
   "source": [
    "# define lasso model\n",
    "perceptron_model_lasso = keras.models.Sequential([Dense(20,activation = \"sigmoid\",input_shape = (52,)),\n",
    "                                             Dense(20,activation = \"sigmoid\"),Dense(20,activation = \"sigmoid\"),\n",
    "                                                Dense(1)])\n",
    "\n",
    "perceptron_model.summary()"
   ]
  },
  {
   "cell_type": "code",
   "execution_count": 113,
   "id": "caroline-developer",
   "metadata": {},
   "outputs": [
    {
     "name": "stdout",
     "output_type": "stream",
     "text": [
      "done in 336.497s\n"
     ]
    },
    {
     "data": {
      "image/png": "[encoded data removed]",
      "text/plain": [
       "<Figure size 864x360 with 1 Axes>"
      ]
     },
     "metadata": {
      "needs_background": "light"
     },
     "output_type": "display_data"
    }
   ],
   "source": [
    "# compile model\n",
    "perceptron_model_lasso.compile(optimizer='adam', loss='mae')\n",
    "\n",
    "t0_nn_lasso = time()\n",
    "# train model \n",
    "num_epochs = 3000\n",
    "training_size = 100\n",
    "batch_size = 2\n",
    "steps_per_epoch = np.ceil(training_size/batch_size)\n",
    "# data set length must be >= (training/batch)*epochs\n",
    "#\n",
    "history =perceptron_model_lasso.fit(X_train_scaled_lasso,y_train,\n",
    "                             epochs=num_epochs,\n",
    "                             steps_per_epoch=steps_per_epoch,\n",
    "                             #callbacks=[checkpoint,kickout],\n",
    "                             verbose=0)\n",
    "\n",
    "print(\"done in %0.3fs\" % (time() - t0_nn_lasso))\n",
    "\n",
    "# visualize learning curve\n",
    "hist = history.history\n",
    "fig = plt.figure(figsize=(12,5))\n",
    "ax = fig.add_subplot(1,2,1)\n",
    "ax.plot(hist['loss'],lw=1)\n",
    "ax.set_title('Training Loss',size=15)\n",
    "ax.set_xlabel('Epoch',size=10)\n",
    "ax.set_ylabel('RMSE',size=10)\n",
    "ax.tick_params(axis='both',which='major',labelsize=15)\n",
    "#\n",
    "plt.show()"
   ]
  },
  {
   "cell_type": "code",
   "execution_count": 114,
   "id": "afraid-diversity",
   "metadata": {},
   "outputs": [
    {
     "name": "stdout",
     "output_type": "stream",
     "text": [
      "Neural network RMSE on test set: 801.065673828125\n"
     ]
    }
   ],
   "source": [
    "# eval trained model on test set\n",
    "mae_nn_test_lasso = perceptron_model_lasso.evaluate(X_test_scaled_lasso,y_test,verbose=0)\n",
    "print('Neural network RMSE on test set:', mae_nn_test_lasso)"
   ]
  },
  {
   "cell_type": "code",
   "execution_count": 115,
   "id": "distinct-generator",
   "metadata": {},
   "outputs": [
    {
     "data": {
      "text/plain": [
       "array([2.79215499e-01, 1.87350543e-01, 1.33402781e-01, 5.78647095e-02,\n",
       "       4.72587308e-02, 3.95848303e-02, 3.61998427e-02, 3.24037597e-02,\n",
       "       2.64043312e-02, 2.11808165e-02, 2.00500379e-02, 1.12034488e-02,\n",
       "       9.33038900e-03, 8.50300893e-03, 7.54171418e-03, 7.14993348e-03,\n",
       "       5.33214890e-03, 4.82598857e-03, 4.66093363e-03, 4.44024251e-03,\n",
       "       4.40344180e-03, 4.00162379e-03, 3.67011148e-03, 3.58255881e-03,\n",
       "       3.25212975e-03, 3.14318020e-03, 3.10791030e-03, 2.80955555e-03,\n",
       "       2.69433272e-03, 2.46727268e-03, 2.09576011e-03, 1.93378356e-03,\n",
       "       1.71857607e-03, 1.48960839e-03, 1.37164797e-03, 1.26883297e-03,\n",
       "       1.16926997e-03, 1.10577699e-03, 9.86136176e-04, 9.37494257e-04,\n",
       "       8.66227526e-04, 8.27167033e-04, 7.76892956e-04, 7.39934099e-04,\n",
       "       5.88073396e-04, 5.56310838e-04, 4.36895295e-04, 4.12095346e-04,\n",
       "       3.33220694e-04, 3.10322615e-04, 2.97677471e-04, 2.69343276e-04,\n",
       "       2.59141468e-04, 1.84041324e-04, 1.65534036e-04, 1.53747001e-04,\n",
       "       1.47665668e-04, 1.42048935e-04, 1.38654998e-04, 1.34390592e-04,\n",
       "       1.29582210e-04, 1.16739999e-04, 9.80180642e-05, 8.63790914e-05,\n",
       "       7.72829998e-05, 7.43798338e-05, 7.15234734e-05, 6.55020257e-05,\n",
       "       6.15296116e-05, 5.39323742e-05, 3.98942670e-05, 3.79977831e-05,\n",
       "       3.73466910e-05, 3.33777583e-05, 2.95288982e-05, 2.63049990e-05,\n",
       "       1.80726899e-05, 1.61239919e-05, 1.49270750e-05, 1.45731808e-05,\n",
       "       1.28119625e-05, 1.03874304e-05, 1.01424102e-05, 5.14477937e-06,\n",
       "       4.48972229e-06, 6.60406028e-07, 6.33994158e-07, 6.33984717e-07,\n",
       "       1.78703369e-33, 1.78703369e-33])"
      ]
     },
     "execution_count": 115,
     "metadata": {},
     "output_type": "execute_result"
    }
   ],
   "source": [
    "# now with manual PCA reduction \n",
    "from sklearn.decomposition import PCA\n",
    "# initialize PCA transformer\n",
    "pca = PCA(n_components = None)\n",
    "X_train_scaled_pca = pca.fit_transform(X_train_scaled)\n",
    "pca.explained_variance_ratio_"
   ]
  },
  {
   "cell_type": "code",
   "execution_count": 116,
   "id": "human-dollar",
   "metadata": {},
   "outputs": [
    {
     "name": "stdout",
     "output_type": "stream",
     "text": [
      "[0.2792155  0.46656604 0.59996882 0.65783353 0.70509226 0.74467709\n",
      " 0.78087694 0.8132807  0.83968503 0.86086584 0.88091588 0.89211933\n",
      " 0.90144972 0.90995273 0.91749444 0.92464438 0.92997653 0.93480251\n",
      " 0.93946345 0.94390369 0.94830713 0.95230876 0.95597887 0.95956143\n",
      " 0.96281356 0.96595674 0.96906465 0.9718742  0.97456853 0.97703581\n",
      " 0.97913157 0.98106535 0.98278393 0.98427354 0.98564518 0.98691402\n",
      " 0.98808329 0.98918906 0.9901752  0.99111269 0.99197892 0.99280609\n",
      " 0.99358298 0.99432292 0.99491099 0.9954673  0.99590419 0.99631629\n",
      " 0.99664951 0.99695983 0.99725751 0.99752685 0.997786   0.99797004\n",
      " 0.99813557 0.99828932 0.99843698 0.99857903 0.99871769 0.99885208\n",
      " 0.99898166 0.9990984  0.99919642 0.9992828  0.99936008 0.99943446\n",
      " 0.99950598 0.99957149 0.99963302 0.99968695 0.99972684 0.99976484\n",
      " 0.99980219 0.99983556 0.99986509 0.9998914  0.99990947 0.9999256\n",
      " 0.99994052 0.9999551  0.99996791 0.99997829 0.99998844 0.99999358\n",
      " 0.99999807 0.99999873 0.99999937 1.         1.         1.        ]\n"
     ]
    }
   ],
   "source": [
    "# print explained variance\n",
    "tot = sum(pca.explained_variance_ratio_)\n",
    "var_exp = [(i/tot) for i in\n",
    "          sorted(pca.explained_variance_ratio_,reverse=True)]\n",
    "cum_var_exp = np.cumsum(var_exp)\n",
    "print(cum_var_exp)"
   ]
  },
  {
   "cell_type": "code",
   "execution_count": 118,
   "id": "steady-chemistry",
   "metadata": {},
   "outputs": [
    {
     "data": {
      "text/html": [
       "<div>\n",
       "<style scoped>\n",
       "    .dataframe tbody tr th:only-of-type {\n",
       "        vertical-align: middle;\n",
       "    }\n",
       "\n",
       "    .dataframe tbody tr th {\n",
       "        vertical-align: top;\n",
       "    }\n",
       "\n",
       "    .dataframe thead th {\n",
       "        text-align: right;\n",
       "    }\n",
       "</style>\n",
       "<table border=\"1\" class=\"dataframe\">\n",
       "  <thead>\n",
       "    <tr style=\"text-align: right;\">\n",
       "      <th></th>\n",
       "      <th>0</th>\n",
       "      <th>1</th>\n",
       "      <th>2</th>\n",
       "      <th>3</th>\n",
       "      <th>4</th>\n",
       "      <th>5</th>\n",
       "      <th>6</th>\n",
       "      <th>7</th>\n",
       "    </tr>\n",
       "  </thead>\n",
       "  <tbody>\n",
       "    <tr>\n",
       "      <th>market_id</th>\n",
       "      <td>-0.000758</td>\n",
       "      <td>-0.038806</td>\n",
       "      <td>0.041105</td>\n",
       "      <td>0.995638</td>\n",
       "      <td>0.024457</td>\n",
       "      <td>-0.004799</td>\n",
       "      <td>-0.006909</td>\n",
       "      <td>-0.025820</td>\n",
       "    </tr>\n",
       "    <tr>\n",
       "      <th>store_id</th>\n",
       "      <td>-0.004498</td>\n",
       "      <td>0.011846</td>\n",
       "      <td>0.004408</td>\n",
       "      <td>0.028054</td>\n",
       "      <td>-0.010043</td>\n",
       "      <td>0.018767</td>\n",
       "      <td>-0.067527</td>\n",
       "      <td>0.994482</td>\n",
       "    </tr>\n",
       "    <tr>\n",
       "      <th>order_protocol</th>\n",
       "      <td>0.003085</td>\n",
       "      <td>-0.041723</td>\n",
       "      <td>0.093041</td>\n",
       "      <td>-0.035370</td>\n",
       "      <td>0.025654</td>\n",
       "      <td>0.461157</td>\n",
       "      <td>-0.563539</td>\n",
       "      <td>-0.026806</td>\n",
       "    </tr>\n",
       "    <tr>\n",
       "      <th>total_items</th>\n",
       "      <td>0.769841</td>\n",
       "      <td>0.173414</td>\n",
       "      <td>0.073324</td>\n",
       "      <td>0.005942</td>\n",
       "      <td>0.075204</td>\n",
       "      <td>0.428716</td>\n",
       "      <td>0.371656</td>\n",
       "      <td>0.018061</td>\n",
       "    </tr>\n",
       "    <tr>\n",
       "      <th>subtotal</th>\n",
       "      <td>0.398982</td>\n",
       "      <td>-0.139170</td>\n",
       "      <td>-0.411041</td>\n",
       "      <td>0.000104</td>\n",
       "      <td>-0.035436</td>\n",
       "      <td>-0.220751</td>\n",
       "      <td>-0.288128</td>\n",
       "      <td>0.002388</td>\n",
       "    </tr>\n",
       "    <tr>\n",
       "      <th>...</th>\n",
       "      <td>...</td>\n",
       "      <td>...</td>\n",
       "      <td>...</td>\n",
       "      <td>...</td>\n",
       "      <td>...</td>\n",
       "      <td>...</td>\n",
       "      <td>...</td>\n",
       "      <td>...</td>\n",
       "    </tr>\n",
       "    <tr>\n",
       "      <th>70</th>\n",
       "      <td>0.005813</td>\n",
       "      <td>-0.005336</td>\n",
       "      <td>0.004307</td>\n",
       "      <td>0.009971</td>\n",
       "      <td>-0.000098</td>\n",
       "      <td>-0.013463</td>\n",
       "      <td>-0.009712</td>\n",
       "      <td>-0.007834</td>\n",
       "    </tr>\n",
       "    <tr>\n",
       "      <th>71</th>\n",
       "      <td>0.000048</td>\n",
       "      <td>-0.000378</td>\n",
       "      <td>0.000063</td>\n",
       "      <td>0.000926</td>\n",
       "      <td>0.000250</td>\n",
       "      <td>0.000064</td>\n",
       "      <td>-0.000381</td>\n",
       "      <td>-0.000218</td>\n",
       "    </tr>\n",
       "    <tr>\n",
       "      <th>72</th>\n",
       "      <td>-0.000218</td>\n",
       "      <td>0.000564</td>\n",
       "      <td>-0.000391</td>\n",
       "      <td>-0.000710</td>\n",
       "      <td>-0.000432</td>\n",
       "      <td>-0.000779</td>\n",
       "      <td>0.001116</td>\n",
       "      <td>-0.000599</td>\n",
       "    </tr>\n",
       "    <tr>\n",
       "      <th>73</th>\n",
       "      <td>-0.000011</td>\n",
       "      <td>-0.000543</td>\n",
       "      <td>0.000765</td>\n",
       "      <td>-0.000411</td>\n",
       "      <td>-0.000531</td>\n",
       "      <td>-0.000394</td>\n",
       "      <td>-0.000345</td>\n",
       "      <td>-0.001886</td>\n",
       "    </tr>\n",
       "    <tr>\n",
       "      <th>74</th>\n",
       "      <td>-0.003373</td>\n",
       "      <td>-0.002512</td>\n",
       "      <td>0.010525</td>\n",
       "      <td>0.009879</td>\n",
       "      <td>-0.004400</td>\n",
       "      <td>-0.000063</td>\n",
       "      <td>0.003256</td>\n",
       "      <td>-0.000704</td>\n",
       "    </tr>\n",
       "  </tbody>\n",
       "</table>\n",
       "<p>90 rows × 8 columns</p>\n",
       "</div>"
      ],
      "text/plain": [
       "                       0         1         2         3         4         5  \\\n",
       "market_id      -0.000758 -0.038806  0.041105  0.995638  0.024457 -0.004799   \n",
       "store_id       -0.004498  0.011846  0.004408  0.028054 -0.010043  0.018767   \n",
       "order_protocol  0.003085 -0.041723  0.093041 -0.035370  0.025654  0.461157   \n",
       "total_items     0.769841  0.173414  0.073324  0.005942  0.075204  0.428716   \n",
       "subtotal        0.398982 -0.139170 -0.411041  0.000104 -0.035436 -0.220751   \n",
       "...                  ...       ...       ...       ...       ...       ...   \n",
       "70              0.005813 -0.005336  0.004307  0.009971 -0.000098 -0.013463   \n",
       "71              0.000048 -0.000378  0.000063  0.000926  0.000250  0.000064   \n",
       "72             -0.000218  0.000564 -0.000391 -0.000710 -0.000432 -0.000779   \n",
       "73             -0.000011 -0.000543  0.000765 -0.000411 -0.000531 -0.000394   \n",
       "74             -0.003373 -0.002512  0.010525  0.009879 -0.004400 -0.000063   \n",
       "\n",
       "                       6         7  \n",
       "market_id      -0.006909 -0.025820  \n",
       "store_id       -0.067527  0.994482  \n",
       "order_protocol -0.563539 -0.026806  \n",
       "total_items     0.371656  0.018061  \n",
       "subtotal       -0.288128  0.002388  \n",
       "...                  ...       ...  \n",
       "70             -0.009712 -0.007834  \n",
       "71             -0.000381 -0.000218  \n",
       "72              0.001116 -0.000599  \n",
       "73             -0.000345 -0.001886  \n",
       "74              0.003256 -0.000704  \n",
       "\n",
       "[90 rows x 8 columns]"
      ]
     },
     "execution_count": 118,
     "metadata": {},
     "output_type": "execute_result"
    }
   ],
   "source": [
    "# export PCs and explore in excel\n",
    "# n PCs based on cumulative df above\n",
    "pca = PCA(n_components = 8)\n",
    "X_train_scaled_pca = pca.fit_transform(X_train_scaled)\n",
    "loadings = pd.DataFrame(pca.components_.T, index=(X_train_scaled.columns))\n",
    "loadings.to_csv (r'C:/Users/bscot/OneDrive/Documents/DoorDash//DoorDash2/nn_pca_components.csv', index = True, header=True)\n",
    "loadings"
   ]
  },
  {
   "cell_type": "code",
   "execution_count": 119,
   "id": "clinical-feeling",
   "metadata": {},
   "outputs": [
    {
     "name": "stdout",
     "output_type": "stream",
     "text": [
      "(157942, 13)\n",
      "(39486, 13)\n"
     ]
    }
   ],
   "source": [
    "# Create PCA data sets\n",
    "\n",
    "X_train_scaled_pca = X_train_scaled[['total_items',\n",
    "                                    'min_item_price',\n",
    "                                    'subtotal',\n",
    "                                    'order_protocol',\n",
    "                                    'estimated_store_to_consumer_driving_duration',\n",
    "                                    'num_distinct_items',\n",
    "                                    'max_item_price',\n",
    "                                    'estimated_order_place_duration',\n",
    "                                    'store_id',\n",
    "                                    'market_id',\n",
    "                                    'total_outstanding_orders',\n",
    "                                    'total_onshift_dashers',\n",
    "                                    'total_busy_dashers',]]\n",
    "\n",
    "\n",
    "X_test_scaled_pca = X_test_scaled[['total_items',\n",
    "                                    'min_item_price',\n",
    "                                    'subtotal',\n",
    "                                    'order_protocol',\n",
    "                                    'estimated_store_to_consumer_driving_duration',\n",
    "                                    'num_distinct_items',\n",
    "                                    'max_item_price',\n",
    "                                    'estimated_order_place_duration',\n",
    "                                    'store_id',\n",
    "                                    'market_id',\n",
    "                                    'total_outstanding_orders',\n",
    "                                    'total_onshift_dashers',\n",
    "                                    'total_busy_dashers',]]\n",
    "\n",
    "\n",
    "print(X_train_scaled_pca.shape)\n",
    "print(X_test_scaled_pca.shape)"
   ]
  },
  {
   "cell_type": "code",
   "execution_count": 120,
   "id": "desirable-talent",
   "metadata": {},
   "outputs": [
    {
     "name": "stdout",
     "output_type": "stream",
     "text": [
      "Model: \"sequential_7\"\n",
      "_________________________________________________________________\n",
      "Layer (type)                 Output Shape              Param #   \n",
      "=================================================================\n",
      "dense_28 (Dense)             (None, 20)                280       \n",
      "_________________________________________________________________\n",
      "dense_29 (Dense)             (None, 20)                420       \n",
      "_________________________________________________________________\n",
      "dense_30 (Dense)             (None, 20)                420       \n",
      "_________________________________________________________________\n",
      "dense_31 (Dense)             (None, 1)                 21        \n",
      "=================================================================\n",
      "Total params: 1,141\n",
      "Trainable params: 1,141\n",
      "Non-trainable params: 0\n",
      "_________________________________________________________________\n"
     ]
    }
   ],
   "source": [
    "# define pca model\n",
    "perceptron_model_pca = keras.models.Sequential([Dense(20,activation = \"sigmoid\",input_shape = (13,)),\n",
    "                                             Dense(20,activation = \"sigmoid\"),Dense(20,activation = \"sigmoid\"),\n",
    "                                                Dense(1)])\n",
    "\n",
    "perceptron_model_pca.summary()"
   ]
  },
  {
   "cell_type": "code",
   "execution_count": 131,
   "id": "appropriate-broad",
   "metadata": {},
   "outputs": [
    {
     "name": "stdout",
     "output_type": "stream",
     "text": [
      "done in 323.350s\n"
     ]
    },
    {
     "data": {
      "image/png": "[encoded data removed]",
      "text/plain": [
       "<Figure size 864x360 with 1 Axes>"
      ]
     },
     "metadata": {
      "needs_background": "light"
     },
     "output_type": "display_data"
    }
   ],
   "source": [
    "# compile model\n",
    "perceptron_model_pca.compile(optimizer='adam', loss='mae')\n",
    "\n",
    "t0_nn_pca = time()\n",
    "# train model \n",
    "num_epochs = 3000\n",
    "training_size = 100\n",
    "batch_size = 2\n",
    "steps_per_epoch = np.ceil(training_size/batch_size)\n",
    "# data set length must be >= (training/batch)*epochs\n",
    "#\n",
    "history =perceptron_model_pca.fit(X_train_scaled_pca,y_train,\n",
    "                             epochs=num_epochs,\n",
    "                             steps_per_epoch=steps_per_epoch,\n",
    "                             #callbacks=[checkpoint,kickout],\n",
    "                             verbose=0)\n",
    "\n",
    "print(\"done in %0.3fs\" % (time() - t0_nn_pca))\n",
    "\n",
    "# visualize learning curve\n",
    "hist = history.history\n",
    "fig = plt.figure(figsize=(12,5))\n",
    "ax = fig.add_subplot(1,2,1)\n",
    "ax.plot(hist['loss'],lw=1)\n",
    "ax.set_title('Training Loss',size=15)\n",
    "ax.set_xlabel('Epoch',size=10)\n",
    "ax.set_ylabel('RMSE',size=10)\n",
    "ax.tick_params(axis='both',which='major',labelsize=15)\n",
    "#\n",
    "plt.show()"
   ]
  },
  {
   "cell_type": "code",
   "execution_count": 132,
   "id": "complex-conditions",
   "metadata": {},
   "outputs": [
    {
     "name": "stdout",
     "output_type": "stream",
     "text": [
      "Neural network RMSE on test set: 801.065673828125\n"
     ]
    }
   ],
   "source": [
    "# eval trained model on test set\n",
    "mae_nn_test_pca = perceptron_model_pca.evaluate(X_test_scaled_pca,y_test,verbose=0)\n",
    "print('Neural network RMSE on test set:', mae_nn_test_pca)"
   ]
  },
  {
   "cell_type": "code",
   "execution_count": 130,
   "id": "useful-length",
   "metadata": {},
   "outputs": [
    {
     "name": "stdout",
     "output_type": "stream",
     "text": [
      "Metric       Full    Lasso_culled    PCA_culled\n",
      "RMSE      801.065         801.066       801.066\n",
      "Time      1729.46         1169.42        658.19\n"
     ]
    }
   ],
   "source": [
    "from tabulate import tabulate\n",
    "\n",
    "table = [[\"RMSE\",mae_nn_test,mae_nn_test_lasso,mae_nn_test_pca],\n",
    "[\"Time\",(time() - t0_nn),(time() - t0_nn_lasso),(time() - t0_nn_pca)]]\n",
    "headers = [\"Metric\", \"Full\",\"Lasso_culled\",\"PCA_culled\"]\n",
    "print(tabulate(table, headers, tablefmt=\"plain\",numalign=\"right\"))"
   ]
  },
  {
   "cell_type": "code",
   "execution_count": null,
   "id": "widespread-central",
   "metadata": {},
   "outputs": [],
   "source": []
  },
  {
   "cell_type": "code",
   "execution_count": null,
   "id": "suitable-growing",
   "metadata": {},
   "outputs": [],
   "source": []
  }
 ],
 "metadata": {
  "kernelspec": {
   "display_name": "Python 3",
   "language": "python",
   "name": "python3"
  },
  "language_info": {
   "codemirror_mode": {
    "name": "ipython",
    "version": 3
   },
   "file_extension": ".py",
   "mimetype": "text/x-python",
   "name": "python",
   "nbconvert_exporter": "python",
   "pygments_lexer": "ipython3",
   "version": "3.7.9"
  }
 },
 "nbformat": 4,
 "nbformat_minor": 5
}
