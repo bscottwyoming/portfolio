{
 "cells": [
  {
   "cell_type": "code",
   "execution_count": null,
   "id": "suitable-horse",
   "metadata": {},
   "outputs": [],
   "source": [
    "# This is a model selction notebook for predicting delivery times using nueral network training w TensorFlow"
   ]
  },
  {
   "cell_type": "code",
   "execution_count": null,
   "id": "sudden-mouth",
   "metadata": {},
   "outputs": [],
   "source": [
    "\"\"\"\"\n",
    "some code attribution \n",
    "1. Raschka, S. (2015). Python Machine Learning. Birmingham, England: Packt Publishing.\n",
    "2. Lopez de Prado, M. (2018). Advances in financial machine learning. Nashville, TN: John Wiley & Sons.\n",
    "3. Hull, J.C. (2019). Machine Learning in Business.  \n",
    "\n",
    "\"\"\"\""
   ]
  },
  {
   "cell_type": "code",
   "execution_count": 53,
   "id": "virtual-oracle",
   "metadata": {},
   "outputs": [],
   "source": [
    "# imports\n",
    "import os\n",
    "import numpy as np\n",
    "import matplotlib.pyplot as plt\n",
    "import pandas as pd\n",
    "from time import time\n",
    "from sklearn.model_selection import train_test_split\n",
    "from scipy.stats import norm\n",
    "from sklearn.preprocessing import RobustScaler"
   ]
  },
  {
   "cell_type": "code",
   "execution_count": 153,
   "id": "broad-probability",
   "metadata": {},
   "outputs": [
    {
     "name": "stdout",
     "output_type": "stream",
     "text": [
      "2.4.0\n"
     ]
    },
    {
     "name": "stderr",
     "output_type": "stream",
     "text": [
      "Using TensorFlow backend.\n"
     ]
    }
   ],
   "source": [
    "# tensorflow imports\n",
    "import tensorflow as tf\n",
    "from tensorflow.keras.layers import Dense\n",
    "from tensorflow import keras\n",
    "from keras.callbacks import EarlyStopping, ModelCheckpoint\n",
    "\n",
    "print(tf.__version__)"
   ]
  },
  {
   "cell_type": "code",
   "execution_count": 86,
   "id": "iraqi-turkey",
   "metadata": {},
   "outputs": [
    {
     "name": "stdout",
     "output_type": "stream",
     "text": [
      "X_scaled_train dataframe is:  (157942, 90)\n",
      "y_train dataframe is:  (157942, 1)\n",
      "X_scaled_test dataframe is:  (39486, 90)\n",
      "y_test dataframe is:  (39486, 1)\n"
     ]
    }
   ],
   "source": [
    "# load data\n",
    "DATA_FOLDER = 'C:/Users/bscot/OneDrive/Documents/DoorDash/DoorDash2'\n",
    "data = pd.read_csv(os.path.join(DATA_FOLDER, 'historical_imputed.csv'))\n",
    "X1 = data.drop('total delivery duration seconds', axis=1)\n",
    "transformer = RobustScaler().fit(X1)\n",
    "X2 = transformer.transform(X1)\n",
    "X = pd.DataFrame(X2, columns = X1.columns)\n",
    "y = data[['total delivery duration seconds']]\n",
    "\n",
    "# divide data into training set and test set for holdout method\n",
    "X_train_scaled,X_test_scaled,y_train,y_test=train_test_split(X,y,test_size=0.20,random_state=100)\n",
    "\n",
    "print('X_scaled_train dataframe is: ',X_scaled_train.shape)\n",
    "print('y_train dataframe is: ',y_train.shape)\n",
    "print('X_scaled_test dataframe is: ',X_scaled_test.shape)\n",
    "print('y_test dataframe is: ',y_test.shape)"
   ]
  },
  {
   "cell_type": "code",
   "execution_count": 87,
   "id": "associate-forth",
   "metadata": {},
   "outputs": [
    {
     "name": "stdout",
     "output_type": "stream",
     "text": [
      "   market_id  store_id  order_protocol  total_items  subtotal  \\\n",
      "0       -0.5 -0.173263       -0.666667         -1.0 -0.549649   \n",
      "1        1.5  0.402989        0.000000          0.0  0.173019   \n",
      "2       -0.5  0.604484       -0.666667         -0.5  0.145436   \n",
      "3       -0.5 -0.403820        0.000000          2.5  1.818455   \n",
      "4       -0.5 -0.563797        0.666667          0.0  0.075226   \n",
      "5        0.5  0.022142        0.000000         -0.5 -0.351053   \n",
      "6       -0.5  0.120122       -0.666667         -0.5 -0.391174   \n",
      "7       -1.0 -0.732355       -0.333333         -1.0 -0.652457   \n",
      "8       -0.5 -0.526709        0.666667          0.0 -0.151956   \n",
      "9        1.0  0.883753       -0.666667         -0.5 -0.328485   \n",
      "\n",
      "   num_distinct_items  min_item_price  max_item_price  total_onshift_dashers  \\\n",
      "0                -0.5        0.129231       -0.699160               0.454545   \n",
      "1                 0.5        0.161538       -0.411765               0.022727   \n",
      "2                 0.0        0.769231        0.336134               0.431818   \n",
      "3                 2.0       -0.340000        0.420168               0.909091   \n",
      "4                 0.5       -0.223077       -0.243697              -0.386364   \n",
      "5                -0.5        0.238462       -0.579832              -0.659091   \n",
      "6                 0.0        0.046154       -0.504202               2.068182   \n",
      "7                -0.5        0.467692       -0.329412              -0.454545   \n",
      "8                 0.5       -0.224615       -0.497479              -0.045455   \n",
      "9                 0.0       -0.153846       -0.075630              -0.409091   \n",
      "\n",
      "   total_busy_dashers  ...   65   66   67   68   69   70   71   72   73   74  \n",
      "0            0.511628  ...  0.0  0.0  0.0  0.0  0.0  0.0  0.0  0.0  0.0  0.0  \n",
      "1            0.023256  ...  0.0  0.0  0.0  0.0  0.0  0.0  0.0  0.0  0.0  0.0  \n",
      "2            0.372093  ...  0.0  0.0  0.0  0.0  0.0  1.0  0.0  0.0  0.0  0.0  \n",
      "3            0.767442  ...  0.0  0.0  0.0  0.0  0.0  0.0  0.0  0.0  0.0  0.0  \n",
      "4            0.255814  ...  0.0  0.0  0.0  0.0  0.0  0.0  0.0  0.0  0.0  0.0  \n",
      "5           -0.651163  ...  0.0  0.0  0.0  0.0  0.0  0.0  0.0  0.0  0.0  0.0  \n",
      "6            1.418605  ...  0.0  0.0  0.0  0.0  0.0  0.0  0.0  0.0  0.0  0.0  \n",
      "7           -0.395349  ...  0.0  0.0  0.0  0.0  0.0  0.0  0.0  0.0  0.0  0.0  \n",
      "8            0.046512  ...  0.0  0.0  0.0  0.0  0.0  0.0  0.0  0.0  0.0  0.0  \n",
      "9           -0.488372  ...  0.0  0.0  0.0  0.0  0.0  0.0  0.0  0.0  0.0  0.0  \n",
      "\n",
      "[10 rows x 90 columns]\n",
      "   market_id  store_id  order_protocol  total_items  subtotal  \\\n",
      "0       -1.0 -0.652643        0.000000         -1.0 -0.554162   \n",
      "1       -1.0  0.105176        0.666667         -0.5 -0.303410   \n",
      "2       -0.5  0.619430        0.000000         -0.5  0.300903   \n",
      "3       -1.0  0.239690        0.333333          0.5 -0.745236   \n",
      "4       -0.5  0.504013       -0.666667         -1.0  0.162989   \n",
      "5       -1.0 -0.804041        0.000000          0.5  0.569208   \n",
      "6        1.0 -0.059507       -0.666667          0.0  0.273320   \n",
      "7        0.5 -0.690562       -0.333333          0.5  1.529589   \n",
      "8       -0.5  0.617492       -0.333333          0.0  0.501003   \n",
      "9       -1.0  0.708276       -0.666667         -1.0 -0.220662   \n",
      "\n",
      "   num_distinct_items  min_item_price  max_item_price  total_onshift_dashers  \\\n",
      "0                -0.5        0.769231        0.000000               0.136364   \n",
      "1                 0.0        0.007692       -0.168067              -0.863636   \n",
      "2                -0.5        0.546154       -0.243697               0.022727   \n",
      "3                 0.0       -0.718462       -1.563025              -0.840909   \n",
      "4                -0.5        2.969231        2.403361              -0.227273   \n",
      "5                 1.0       -0.024615        0.561345               0.068182   \n",
      "6                 0.5       -0.030769        0.000000              -0.363636   \n",
      "7                 1.0        0.161538        1.016807               0.272727   \n",
      "8                 0.0        0.546154        0.342857               1.090909   \n",
      "9                -0.5        0.660000       -0.206723              -0.318182   \n",
      "\n",
      "   total_busy_dashers  ...   65   66   67   68   69   70   71   72   73   74  \n",
      "0            0.255814  ...  0.0  0.0  0.0  0.0  0.0  0.0  0.0  0.0  0.0  0.0  \n",
      "1           -0.813953  ...  0.0  0.0  0.0  0.0  0.0  0.0  0.0  0.0  0.0  0.0  \n",
      "2            0.093023  ...  0.0  0.0  0.0  0.0  0.0  0.0  0.0  0.0  0.0  0.0  \n",
      "3           -0.767442  ...  0.0  0.0  0.0  0.0  0.0  0.0  0.0  0.0  0.0  0.0  \n",
      "4            0.069767  ...  0.0  0.0  0.0  0.0  0.0  0.0  0.0  0.0  0.0  0.0  \n",
      "5            0.093023  ...  0.0  0.0  0.0  0.0  0.0  0.0  0.0  0.0  0.0  0.0  \n",
      "6           -0.488372  ...  0.0  0.0  0.0  0.0  0.0  0.0  0.0  0.0  0.0  0.0  \n",
      "7            0.069767  ...  0.0  0.0  0.0  0.0  0.0  0.0  0.0  0.0  0.0  0.0  \n",
      "8            0.093023  ...  0.0  0.0  0.0  0.0  0.0  0.0  0.0  0.0  0.0  0.0  \n",
      "9           -0.395349  ...  0.0  0.0  0.0  0.0  0.0  0.0  0.0  0.0  0.0  0.0  \n",
      "\n",
      "[10 rows x 90 columns]\n"
     ]
    }
   ],
   "source": [
    "# check contents\n",
    "X_scaled_train = pd.DataFrame(X_scaled_train, columns = X1.columns)\n",
    "X_scaled_test = pd.DataFrame(X_scaled_test, columns = X1.columns)\n",
    "y_train = pd.DataFrame(y_train, columns = y.columns)\n",
    "y_test = pd.DataFrame(y_test, columns = y.columns)\n",
    "print(X_scaled_train.head(10))\n",
    "print(X_scaled_test.head(10))\n",
    "#print(y_train.head(10))\n",
    "#print(y_test.head(10))"
   ]
  },
  {
   "cell_type": "code",
   "execution_count": 154,
   "id": "awful-stack",
   "metadata": {},
   "outputs": [
    {
     "name": "stdout",
     "output_type": "stream",
     "text": [
      "Model: \"sequential_8\"\n",
      "_________________________________________________________________\n",
      "Layer (type)                 Output Shape              Param #   \n",
      "=================================================================\n",
      "dense_32 (Dense)             (None, 20)                1820      \n",
      "_________________________________________________________________\n",
      "dense_33 (Dense)             (None, 20)                420       \n",
      "_________________________________________________________________\n",
      "dense_34 (Dense)             (None, 20)                420       \n",
      "_________________________________________________________________\n",
      "dense_35 (Dense)             (None, 1)                 21        \n",
      "=================================================================\n",
      "Total params: 2,681\n",
      "Trainable params: 2,681\n",
      "Non-trainable params: 0\n",
      "_________________________________________________________________\n"
     ]
    }
   ],
   "source": [
    "# define model\n",
    "perceptron_model = keras.models.Sequential([Dense(20,activation = \"sigmoid\",input_shape = (90,)),\n",
    "                                             Dense(20,activation = \"sigmoid\"),Dense(20,activation = \"sigmoid\"),\n",
    "                                                Dense(1)])\n",
    "\n",
    "perceptron_model.summary()"
   ]
  },
  {
   "cell_type": "code",
   "execution_count": 172,
   "id": "instrumental-elder",
   "metadata": {},
   "outputs": [],
   "source": [
    "# compile model\n",
    "perceptron_model.compile(optimizer='adam', loss='mae')"
   ]
  },
  {
   "cell_type": "code",
   "execution_count": 173,
   "id": "pregnant-currency",
   "metadata": {},
   "outputs": [],
   "source": [
    "# save checkpoints\n",
    "checkpoint = keras.callbacks.ModelCheckpoint(\"best_model\", save_best_only = True)\n",
    "# early stopping trigger\n",
    "kickout = keras.callbacks.EarlyStopping(patience = 100, restore_best_weights = True)"
   ]
  },
  {
   "cell_type": "code",
   "execution_count": 177,
   "id": "broadband-serve",
   "metadata": {},
   "outputs": [
    {
     "name": "stdout",
     "output_type": "stream",
     "text": [
      "done in 705.752s\n"
     ]
    }
   ],
   "source": [
    "t0_nn = time()\n",
    "# train model \n",
    "num_epochs = 3000\n",
    "training_size = 100\n",
    "batch_size = 2\n",
    "steps_per_epoch = np.ceil(training_size/batch_size)\n",
    "# data set length must be >= (training/batch)*epochs\n",
    "#\n",
    "history=perceptron_model.fit(X_scaled_train,y_train,\n",
    "                             epochs=num_epochs,\n",
    "                             steps_per_epoch=steps_per_epoch,\n",
    "                             #callbacks=[checkpoint,kickout],\n",
    "                             verbose=0)\n",
    "\n",
    "print(\"done in %0.3fs\" % (time() - t0_nn))"
   ]
  },
  {
   "cell_type": "code",
   "execution_count": 178,
   "id": "enclosed-belief",
   "metadata": {},
   "outputs": [
    {
     "data": {
      "image/png": "[encoded data removed]",
      "text/plain": [
       "<Figure size 864x360 with 1 Axes>"
      ]
     },
     "metadata": {
      "needs_background": "light"
     },
     "output_type": "display_data"
    }
   ],
   "source": [
    "# visualize learning curve\n",
    "hist = history.history\n",
    "fig = plt.figure(figsize=(12,5))\n",
    "ax = fig.add_subplot(1,2,1)\n",
    "ax.plot(hist['loss'],lw=1)\n",
    "ax.set_title('Training Loss',size=15)\n",
    "ax.set_xlabel('Epoch',size=10)\n",
    "ax.set_ylabel('RMSE',size=10)\n",
    "ax.tick_params(axis='both',which='major',labelsize=15)\n",
    "#\n",
    "plt.show()"
   ]
  },
  {
   "cell_type": "code",
   "execution_count": 179,
   "id": "peaceful-aberdeen",
   "metadata": {},
   "outputs": [
    {
     "name": "stdout",
     "output_type": "stream",
     "text": [
      "Neural network RMSE on test set: 801.0652465820312\n"
     ]
    }
   ],
   "source": [
    "# eval trained model on test set\n",
    "mae_nn_test = perceptron_model.evaluate(X_scaled_test,y_test,verbose=0)\n",
    "print('Neural network RMSE on test set:', mae_nn_test)"
   ]
  },
  {
   "cell_type": "code",
   "execution_count": 186,
   "id": "rocky-fight",
   "metadata": {},
   "outputs": [
    {
     "ename": "ValueError",
     "evalue": "in user code:\n\n    C:\\Users\\bscot\\anaconda3\\lib\\site-packages\\tensorflow\\python\\keras\\engine\\training.py:1478 predict_function  *\n        return step_function(self, iterator)\n    C:\\Users\\bscot\\anaconda3\\lib\\site-packages\\tensorflow\\python\\keras\\engine\\training.py:1468 step_function  **\n        If unspecified, `use_multiprocessing` will default to `False`.\n    C:\\Users\\bscot\\anaconda3\\lib\\site-packages\\tensorflow\\python\\distribute\\distribute_lib.py:1259 run\n        for t, v in value_destination_pairs\n    C:\\Users\\bscot\\anaconda3\\lib\\site-packages\\tensorflow\\python\\distribute\\distribute_lib.py:2730 call_for_each_replica\n        \n    C:\\Users\\bscot\\anaconda3\\lib\\site-packages\\tensorflow\\python\\distribute\\distribute_lib.py:3417 _call_for_each_replica\n        \n    C:\\Users\\bscot\\anaconda3\\lib\\site-packages\\tensorflow\\python\\keras\\engine\\training.py:1461 run_step  **\n        max_queue_size: maximum size for the generator queue\n    C:\\Users\\bscot\\anaconda3\\lib\\site-packages\\tensorflow\\python\\keras\\engine\\training.py:1434 predict_step\n        \n    C:\\Users\\bscot\\anaconda3\\lib\\site-packages\\tensorflow\\python\\keras\\engine\\base_layer.py:998 __call__\n        self._symbolic_add_metric(value, aggregation, name)\n    C:\\Users\\bscot\\anaconda3\\lib\\site-packages\\tensorflow\\python\\keras\\engine\\input_spec.py:259 assert_input_compatibility\n        \n\n    ValueError: Input 0 of layer sequential_8 is incompatible with the layer: expected axis -1 of input shape to have value 90 but received input with shape (None, 1)\n",
     "output_type": "error",
     "traceback": [
      "\u001b[1;31m---------------------------------------------------------------------------\u001b[0m",
      "\u001b[1;31mValueError\u001b[0m                                Traceback (most recent call last)",
      "\u001b[1;32m<ipython-input-186-b2e8e621c4e5>\u001b[0m in \u001b[0;36m<module>\u001b[1;34m\u001b[0m\n\u001b[1;32m----> 1\u001b[1;33m \u001b[0mpredictions\u001b[0m \u001b[1;33m=\u001b[0m \u001b[0mperceptron_model\u001b[0m\u001b[1;33m.\u001b[0m\u001b[0mpredict\u001b[0m\u001b[1;33m(\u001b[0m\u001b[0my_test\u001b[0m\u001b[1;33m)\u001b[0m\u001b[1;33m\u001b[0m\u001b[1;33m\u001b[0m\u001b[0m\n\u001b[0m\u001b[0;32m      2\u001b[0m \u001b[0mpredictions_pd\u001b[0m \u001b[1;33m=\u001b[0m \u001b[0mpd\u001b[0m\u001b[1;33m.\u001b[0m\u001b[0mDataFrame\u001b[0m\u001b[1;33m(\u001b[0m\u001b[0mpredictions\u001b[0m\u001b[1;33m,\u001b[0m \u001b[0mcolumns\u001b[0m \u001b[1;33m=\u001b[0m \u001b[1;33m[\u001b[0m\u001b[1;34m'predicted duration'\u001b[0m\u001b[1;33m]\u001b[0m\u001b[1;33m)\u001b[0m\u001b[1;33m\u001b[0m\u001b[1;33m\u001b[0m\u001b[0m\n\u001b[0;32m      3\u001b[0m \u001b[0mpredictions_concat\u001b[0m \u001b[1;33m=\u001b[0m \u001b[0mpd\u001b[0m\u001b[1;33m.\u001b[0m\u001b[0mconcat\u001b[0m\u001b[1;33m(\u001b[0m\u001b[1;33m[\u001b[0m\u001b[0my_test\u001b[0m\u001b[1;33m,\u001b[0m\u001b[0mpredictions_pd\u001b[0m\u001b[1;33m]\u001b[0m\u001b[1;33m,\u001b[0m \u001b[0maxis\u001b[0m\u001b[1;33m=\u001b[0m\u001b[1;36m1\u001b[0m\u001b[1;33m)\u001b[0m\u001b[1;33m\u001b[0m\u001b[1;33m\u001b[0m\u001b[0m\n\u001b[0;32m      4\u001b[0m \u001b[0mpredictions_concat\u001b[0m\u001b[1;33m.\u001b[0m\u001b[0mto_csv\u001b[0m \u001b[1;33m(\u001b[0m\u001b[1;34mr'C:/Users/bscot/OneDrive/Documents/DoorDash/DoorDash2/tensorflow_predict.csv'\u001b[0m\u001b[1;33m,\u001b[0m \u001b[0mindex\u001b[0m \u001b[1;33m=\u001b[0m \u001b[1;32mFalse\u001b[0m\u001b[1;33m,\u001b[0m \u001b[0mheader\u001b[0m\u001b[1;33m=\u001b[0m\u001b[1;32mTrue\u001b[0m\u001b[1;33m)\u001b[0m\u001b[1;33m\u001b[0m\u001b[1;33m\u001b[0m\u001b[0m\n\u001b[0;32m      5\u001b[0m \u001b[0mprint\u001b[0m\u001b[1;33m(\u001b[0m\u001b[0mpredictions\u001b[0m\u001b[1;33m)\u001b[0m\u001b[1;33m\u001b[0m\u001b[1;33m\u001b[0m\u001b[0m\n",
      "\u001b[1;32m~\\anaconda3\\lib\\site-packages\\tensorflow\\python\\keras\\engine\\training.py\u001b[0m in \u001b[0;36mpredict\u001b[1;34m(self, x, batch_size, verbose, steps, callbacks, max_queue_size, workers, use_multiprocessing)\u001b[0m\n\u001b[0;32m   1627\u001b[0m                        'with a LossScaleOptimizer.')\n\u001b[0;32m   1628\u001b[0m \u001b[1;33m\u001b[0m\u001b[0m\n\u001b[1;32m-> 1629\u001b[1;33m     \u001b[1;31m# Prepare sample weight modes. List with the same length as model outputs.\u001b[0m\u001b[1;33m\u001b[0m\u001b[1;33m\u001b[0m\u001b[1;33m\u001b[0m\u001b[0m\n\u001b[0m\u001b[0;32m   1630\u001b[0m     training_utils.prepare_sample_weight_modes(\n\u001b[0;32m   1631\u001b[0m         self._training_endpoints, sample_weight_mode)\n",
      "\u001b[1;32m~\\anaconda3\\lib\\site-packages\\tensorflow\\python\\eager\\def_function.py\u001b[0m in \u001b[0;36m__call__\u001b[1;34m(self, *args, **kwds)\u001b[0m\n\u001b[0;32m    826\u001b[0m   \u001b[0md2\u001b[0m \u001b[1;33m=\u001b[0m \u001b[0mDense\u001b[0m\u001b[1;33m(\u001b[0m\u001b[1;33m)\u001b[0m\u001b[1;33m\u001b[0m\u001b[1;33m\u001b[0m\u001b[0m\n\u001b[0;32m    827\u001b[0m   \u001b[0mx\u001b[0m \u001b[1;33m=\u001b[0m \u001b[0mtf\u001b[0m\u001b[1;33m.\u001b[0m\u001b[0mrandom\u001b[0m\u001b[1;33m.\u001b[0m\u001b[0muniform\u001b[0m\u001b[1;33m(\u001b[0m\u001b[1;33m(\u001b[0m\u001b[1;36m10\u001b[0m\u001b[1;33m,\u001b[0m \u001b[1;36m10\u001b[0m\u001b[1;33m)\u001b[0m\u001b[1;33m)\u001b[0m\u001b[1;33m\u001b[0m\u001b[1;33m\u001b[0m\u001b[0m\n\u001b[1;32m--> 828\u001b[1;33m   \u001b[1;31m# d1 and d2 are using distinct variables\u001b[0m\u001b[1;33m\u001b[0m\u001b[1;33m\u001b[0m\u001b[1;33m\u001b[0m\u001b[0m\n\u001b[0m\u001b[0;32m    829\u001b[0m   \u001b[1;32massert\u001b[0m \u001b[1;32mnot\u001b[0m \u001b[1;33m(\u001b[0m\u001b[0md1\u001b[0m\u001b[1;33m.\u001b[0m\u001b[0mcompute\u001b[0m\u001b[1;33m(\u001b[0m\u001b[0mx\u001b[0m\u001b[1;33m)\u001b[0m\u001b[1;33m.\u001b[0m\u001b[0mnumpy\u001b[0m\u001b[1;33m(\u001b[0m\u001b[1;33m)\u001b[0m \u001b[1;33m==\u001b[0m \u001b[0md2\u001b[0m\u001b[1;33m.\u001b[0m\u001b[0mcompute\u001b[0m\u001b[1;33m(\u001b[0m\u001b[0mx\u001b[0m\u001b[1;33m)\u001b[0m\u001b[1;33m.\u001b[0m\u001b[0mnumpy\u001b[0m\u001b[1;33m(\u001b[0m\u001b[1;33m)\u001b[0m\u001b[1;33m)\u001b[0m\u001b[1;33m.\u001b[0m\u001b[0mall\u001b[0m\u001b[1;33m(\u001b[0m\u001b[1;33m)\u001b[0m\u001b[1;33m\u001b[0m\u001b[1;33m\u001b[0m\u001b[0m\n\u001b[0;32m    830\u001b[0m   \u001b[0;31m`\u001b[0m\u001b[0;31m`\u001b[0m\u001b[0;31m`\u001b[0m\u001b[1;33m\u001b[0m\u001b[1;33m\u001b[0m\u001b[0m\n",
      "\u001b[1;32m~\\anaconda3\\lib\\site-packages\\tensorflow\\python\\eager\\def_function.py\u001b[0m in \u001b[0;36m_call\u001b[1;34m(self, *args, **kwds)\u001b[0m\n\u001b[0;32m    860\u001b[0m \u001b[1;33m\u001b[0m\u001b[0m\n\u001b[0;32m    861\u001b[0m   \u001b[0;31m`\u001b[0m\u001b[0mfunction\u001b[0m\u001b[0;31m`\u001b[0m \u001b[0minstantiates\u001b[0m \u001b[0ma\u001b[0m \u001b[0mseparate\u001b[0m \u001b[0mgraph\u001b[0m \u001b[1;32mfor\u001b[0m \u001b[0mevery\u001b[0m \u001b[0munique\u001b[0m \u001b[0mset\u001b[0m \u001b[0mof\u001b[0m \u001b[0minput\u001b[0m\u001b[1;33m\u001b[0m\u001b[1;33m\u001b[0m\u001b[0m\n\u001b[1;32m--> 862\u001b[1;33m   \u001b[0mshapes\u001b[0m \u001b[1;32mand\u001b[0m \u001b[0mdatatypes\u001b[0m\u001b[1;33m.\u001b[0m \u001b[0mFor\u001b[0m \u001b[0mexample\u001b[0m\u001b[1;33m,\u001b[0m \u001b[0mthe\u001b[0m \u001b[0mfollowing\u001b[0m \u001b[0mcode\u001b[0m \u001b[0msnippet\u001b[0m \u001b[0mwill\u001b[0m \u001b[0mresult\u001b[0m\u001b[1;33m\u001b[0m\u001b[1;33m\u001b[0m\u001b[0m\n\u001b[0m\u001b[0;32m    863\u001b[0m   \u001b[1;32min\u001b[0m \u001b[0mthree\u001b[0m \u001b[0mdistinct\u001b[0m \u001b[0mgraphs\u001b[0m \u001b[0mbeing\u001b[0m \u001b[0mtraced\u001b[0m\u001b[1;33m,\u001b[0m \u001b[1;32mas\u001b[0m \u001b[0meach\u001b[0m \u001b[0minput\u001b[0m \u001b[0mhas\u001b[0m \u001b[0ma\u001b[0m \u001b[0mdifferent\u001b[0m\u001b[1;33m\u001b[0m\u001b[1;33m\u001b[0m\u001b[0m\n\u001b[0;32m    864\u001b[0m   \u001b[0mshape\u001b[0m\u001b[1;33m.\u001b[0m\u001b[1;33m\u001b[0m\u001b[1;33m\u001b[0m\u001b[0m\n",
      "\u001b[1;32m~\\anaconda3\\lib\\site-packages\\tensorflow\\python\\eager\\function.py\u001b[0m in \u001b[0;36m__call__\u001b[1;34m(self, *args, **kwargs)\u001b[0m\n",
      "\u001b[1;32m~\\anaconda3\\lib\\site-packages\\tensorflow\\python\\eager\\function.py\u001b[0m in \u001b[0;36m_maybe_define_function\u001b[1;34m(self, args, kwargs)\u001b[0m\n",
      "\u001b[1;32m~\\anaconda3\\lib\\site-packages\\tensorflow\\python\\eager\\function.py\u001b[0m in \u001b[0;36m_define_function_with_shape_relaxation\u001b[1;34m(self, args, kwargs, flat_args, filtered_flat_args, cache_key_context)\u001b[0m\n",
      "\u001b[1;32m~\\anaconda3\\lib\\site-packages\\tensorflow\\python\\eager\\function.py\u001b[0m in \u001b[0;36m_create_graph_function\u001b[1;34m(self, args, kwargs, override_flat_arg_shapes)\u001b[0m\n",
      "\u001b[1;32m~\\anaconda3\\lib\\site-packages\\tensorflow\\python\\framework\\func_graph.py\u001b[0m in \u001b[0;36mfunc_graph_from_py_func\u001b[1;34m(name, python_func, args, kwargs, signature, func_graph, autograph, autograph_options, add_control_dependencies, arg_names, op_return_value, collections, capture_by_value, override_flat_arg_shapes)\u001b[0m\n\u001b[0;32m    988\u001b[0m     \u001b[0mfunc_graph\u001b[0m\u001b[1;33m:\u001b[0m \u001b[0mA\u001b[0m\u001b[0;31m \u001b[0m\u001b[0;31m`\u001b[0m\u001b[0mFuncGraph\u001b[0m\u001b[0;31m`\u001b[0m \u001b[0mobject\u001b[0m \u001b[0mto\u001b[0m \u001b[0mdestroy\u001b[0m\u001b[1;33m.\u001b[0m\u001b[0;31m \u001b[0m\u001b[0;31m`\u001b[0m\u001b[0mfunc_graph\u001b[0m\u001b[0;31m`\u001b[0m \u001b[1;32mis\u001b[0m \u001b[0munusable\u001b[0m\u001b[1;33m\u001b[0m\u001b[1;33m\u001b[0m\u001b[0m\n\u001b[0;32m    989\u001b[0m       \u001b[0mafter\u001b[0m \u001b[0mthis\u001b[0m \u001b[0mfunction\u001b[0m\u001b[1;33m.\u001b[0m\u001b[1;33m\u001b[0m\u001b[1;33m\u001b[0m\u001b[0m\n\u001b[1;32m--> 990\u001b[1;33m   \"\"\"\n\u001b[0m\u001b[0;32m    991\u001b[0m   \u001b[1;31m# TODO(b/115366440): Delete this method when a custom OrderedDict is added.\u001b[0m\u001b[1;33m\u001b[0m\u001b[1;33m\u001b[0m\u001b[1;33m\u001b[0m\u001b[0m\n\u001b[0;32m    992\u001b[0m   \u001b[1;31m# Clearing captures using clear() leaves some cycles around.\u001b[0m\u001b[1;33m\u001b[0m\u001b[1;33m\u001b[0m\u001b[1;33m\u001b[0m\u001b[0m\n",
      "\u001b[1;32m~\\anaconda3\\lib\\site-packages\\tensorflow\\python\\eager\\def_function.py\u001b[0m in \u001b[0;36mwrapped_fn\u001b[1;34m(*args, **kwds)\u001b[0m\n\u001b[0;32m    632\u001b[0m     \u001b[0;31m`\u001b[0m\u001b[0;31m`\u001b[0m\u001b[0;31m`\u001b[0m\u001b[1;33m\u001b[0m\u001b[1;33m\u001b[0m\u001b[0m\n\u001b[0;32m    633\u001b[0m \u001b[1;33m\u001b[0m\u001b[0m\n\u001b[1;32m--> 634\u001b[1;33m     \u001b[0mNested\u001b[0m \u001b[0mstructures\u001b[0m \u001b[0mcontaining\u001b[0m \u001b[0mTensors\u001b[0m \u001b[0mmay\u001b[0m \u001b[0mbe\u001b[0m \u001b[0mspecified\u001b[0m \u001b[0mwhen\u001b[0m \u001b[0mretrieving\u001b[0m\u001b[1;33m\u001b[0m\u001b[1;33m\u001b[0m\u001b[0m\n\u001b[0m\u001b[0;32m    635\u001b[0m     \u001b[0mconcrete\u001b[0m \u001b[0mfunctions\u001b[0m\u001b[1;33m.\u001b[0m \u001b[0mStructures\u001b[0m \u001b[1;32mwith\u001b[0m \u001b[0mmultiple\u001b[0m \u001b[0mTensors\u001b[0m \u001b[0mare\u001b[0m \u001b[0mexpanded\u001b[0m \u001b[0minto\u001b[0m\u001b[1;33m\u001b[0m\u001b[1;33m\u001b[0m\u001b[0m\n\u001b[0;32m    636\u001b[0m     \u001b[0mmultiple\u001b[0m \u001b[0marguments\u001b[0m \u001b[0mof\u001b[0m \u001b[0mthe\u001b[0m \u001b[0mconcrete\u001b[0m \u001b[0mfunction\u001b[0m\u001b[1;33m.\u001b[0m \u001b[0mSince\u001b[0m \u001b[0mmultiple\u001b[0m \u001b[0mconcrete\u001b[0m\u001b[1;33m\u001b[0m\u001b[1;33m\u001b[0m\u001b[0m\n",
      "\u001b[1;32m~\\anaconda3\\lib\\site-packages\\tensorflow\\python\\framework\\func_graph.py\u001b[0m in \u001b[0;36mwrapper\u001b[1;34m(*args, **kwargs)\u001b[0m\n\u001b[0;32m    975\u001b[0m     \u001b[0margs\u001b[0m \u001b[1;33m=\u001b[0m \u001b[1;33m[\u001b[0m\u001b[1;33m]\u001b[0m\u001b[1;33m\u001b[0m\u001b[1;33m\u001b[0m\u001b[0m\n\u001b[0;32m    976\u001b[0m   return _get_defun_inputs(\n\u001b[1;32m--> 977\u001b[1;33m       args, names, structure=kwargs, flat_shapes=flat_shapes)\n\u001b[0m\u001b[0;32m    978\u001b[0m \u001b[1;33m\u001b[0m\u001b[0m\n\u001b[0;32m    979\u001b[0m \u001b[1;33m\u001b[0m\u001b[0m\n",
      "\u001b[1;31mValueError\u001b[0m: in user code:\n\n    C:\\Users\\bscot\\anaconda3\\lib\\site-packages\\tensorflow\\python\\keras\\engine\\training.py:1478 predict_function  *\n        return step_function(self, iterator)\n    C:\\Users\\bscot\\anaconda3\\lib\\site-packages\\tensorflow\\python\\keras\\engine\\training.py:1468 step_function  **\n        If unspecified, `use_multiprocessing` will default to `False`.\n    C:\\Users\\bscot\\anaconda3\\lib\\site-packages\\tensorflow\\python\\distribute\\distribute_lib.py:1259 run\n        for t, v in value_destination_pairs\n    C:\\Users\\bscot\\anaconda3\\lib\\site-packages\\tensorflow\\python\\distribute\\distribute_lib.py:2730 call_for_each_replica\n        \n    C:\\Users\\bscot\\anaconda3\\lib\\site-packages\\tensorflow\\python\\distribute\\distribute_lib.py:3417 _call_for_each_replica\n        \n    C:\\Users\\bscot\\anaconda3\\lib\\site-packages\\tensorflow\\python\\keras\\engine\\training.py:1461 run_step  **\n        max_queue_size: maximum size for the generator queue\n    C:\\Users\\bscot\\anaconda3\\lib\\site-packages\\tensorflow\\python\\keras\\engine\\training.py:1434 predict_step\n        \n    C:\\Users\\bscot\\anaconda3\\lib\\site-packages\\tensorflow\\python\\keras\\engine\\base_layer.py:998 __call__\n        self._symbolic_add_metric(value, aggregation, name)\n    C:\\Users\\bscot\\anaconda3\\lib\\site-packages\\tensorflow\\python\\keras\\engine\\input_spec.py:259 assert_input_compatibility\n        \n\n    ValueError: Input 0 of layer sequential_8 is incompatible with the layer: expected axis -1 of input shape to have value 90 but received input with shape (None, 1)\n"
     ]
    }
   ],
   "source": [
    "predictions = perceptron_model.predict(X_scaled_test)\n",
    "predictions_pd = pd.DataFrame(predictions, columns = ['predicted duration'])\n",
    "predictions_concat = pd.concat([y_test,predictions_pd], axis=1)\n",
    "predictions_concat.to_csv (r'C:/Users/bscot/OneDrive/Documents/DoorDash/DoorDash2/tensorflow_predict.csv', index = False, header=True)\n",
    "print(predictions)"
   ]
  },
  {
   "cell_type": "code",
   "execution_count": null,
   "id": "literary-reader",
   "metadata": {},
   "outputs": [],
   "source": []
  }
 ],
 "metadata": {
  "kernelspec": {
   "display_name": "Python 3",
   "language": "python",
   "name": "python3"
  },
  "language_info": {
   "codemirror_mode": {
    "name": "ipython",
    "version": 3
   },
   "file_extension": ".py",
   "mimetype": "text/x-python",
   "name": "python",
   "nbconvert_exporter": "python",
   "pygments_lexer": "ipython3",
   "version": "3.7.9"
  }
 },
 "nbformat": 4,
 "nbformat_minor": 5
}
