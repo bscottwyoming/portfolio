{
 "cells": [
  {
   "cell_type": "code",
   "execution_count": null,
   "metadata": {},
   "outputs": [],
   "source": [
    "# This is a model selction notebook for predicting delivery times using Lasso, Ridge, and SVR(sigmoid)"
   ]
  },
  {
   "cell_type": "code",
   "execution_count": null,
   "metadata": {},
   "outputs": [],
   "source": [
    "\"\"\"\"\n",
    "some code attribution \n",
    "1. Raschka, S. (2015). Python Machine Learning. Birmingham, England: Packt Publishing.\n",
    "2. Lopez de Prado, M. (2018). Advances in financial machine learning. Nashville, TN: John Wiley & Sons.\n",
    "3. Hull, J.C. (2019). Machine Learning in Business.  \n",
    "\n",
    "\"\"\"\""
   ]
  },
  {
   "cell_type": "code",
   "execution_count": 26,
   "metadata": {},
   "outputs": [],
   "source": [
    "# imports\n",
    "import os\n",
    "import numpy as np\n",
    "import matplotlib.pyplot as plt\n",
    "import pandas as pd\n",
    "from time import time\n",
    "from tabulate import tabulate\n",
    "from sklearn.preprocessing import RobustScaler\n",
    "from sklearn import linear_model, decomposition\n",
    "from sklearn.model_selection import train_test_split\n",
    "from sklearn.metrics import make_scorer\n",
    "from sklearn.decomposition import PCA\n",
    "from sklearn.pipeline import Pipeline\n",
    "from sklearn.model_selection import GridSearchCV,cross_val_score\n",
    "from sklearn.linear_model import Lasso\n",
    "from sklearn.linear_model import Ridge\n",
    "from sklearn.svm import SVR"
   ]
  },
  {
   "cell_type": "code",
   "execution_count": 9,
   "metadata": {},
   "outputs": [
    {
     "name": "stdout",
     "output_type": "stream",
     "text": [
      "X dataframe is:  (1000, 90)\n",
      "y dataframe is:  (1000, 1)\n"
     ]
    }
   ],
   "source": [
    "# load data\n",
    "DATA_FOLDER = 'C:/Users/bscot/OneDrive/Documents/DoorDash/DoorDash2'\n",
    "data = pd.read_csv(os.path.join(DATA_FOLDER, 'historical_imputed_1000.csv'))\n",
    "# partition data\n",
    "data_ind = data.drop('total delivery duration seconds', axis=1)\n",
    "data_dep = data[['total delivery duration seconds']]\n",
    "X_train, X_test, y_train, y_test = train_test_split(data_ind, data_dep, test_size=0.33, random_state=50)\n",
    "print('X dataframe is: ',data_ind.shape)\n",
    "print('y dataframe is: ',data_dep.shape)"
   ]
  },
  {
   "cell_type": "code",
   "execution_count": 4,
   "metadata": {},
   "outputs": [],
   "source": [
    "# make a scorer to only punish positive errors\n",
    "# the objective function for delivery prediction is asymmetric \n",
    "def mean_delinquency(y_predict, y_true):\n",
    "    exclude_early = np.subtract(y_predict, y_true)\n",
    "    # limit early reward to zero\n",
    "    exclude_early[exclude_early <0 ] = 0\n",
    "    # keep early in N but punish delinquency\n",
    "    return (exclude_early.mean())\n",
    "\n",
    "mean_delinquency_scorer = make_scorer(mean_delinquency, greater_is_better=False)"
   ]
  },
  {
   "cell_type": "code",
   "execution_count": 12,
   "metadata": {
    "scrolled": true
   },
   "outputs": [
    {
     "name": "stdout",
     "output_type": "stream",
     "text": [
      "CV accuracy: -937.411 +/- 89.019\n",
      "Best Alpha: 0.05\n",
      "Best Number Of Components: 6\n",
      "done in 22.237s\n"
     ]
    }
   ],
   "source": [
    "t0_lasso = time()\n",
    "# create lasso pipeline\n",
    "#\n",
    "# scaler object\n",
    "sc = RobustScaler()\n",
    "# pca object\n",
    "pca = PCA()\n",
    "# regression object\n",
    "lasso = Lasso()\n",
    "\n",
    "# Pipeline of three steps\n",
    "pipeline_lasso = Pipeline(steps=[('sc', sc), \n",
    "                       ('pca', pca), \n",
    "                       ('lasso', lasso)])\n",
    "# lasso parameter space\n",
    "parameters_lasso = {\n",
    "    #'pca__n_components': list(range(1,data_ind.shape[1]+1,1)),\n",
    "    'pca__n_components': [3, 6, 15, 35, 50, 70, 90],\n",
    "    'lasso__alpha': [0.01/2, 0.02/2, 0.03/2, 0.04/2, 0.05/2, 0.075/2, 0.1/2]\n",
    "}\n",
    "# perform 5x2 nested cross validation\n",
    "optimize_lasso = GridSearchCV(pipeline_lasso, parameters_lasso,scoring='neg_root_mean_squared_error', cv=2)\n",
    "# understand features and hyperparams\n",
    "optimize_lasso.fit(data_ind, data_dep)\n",
    "# \n",
    "scores_lasso = cross_val_score(optimize_lasso,data_ind, data_dep, scoring='neg_root_mean_squared_error', cv=5, n_jobs=-1)\n",
    "#\n",
    "print('CV accuracy: %.3f +/- %.3f' % (np.mean(scores_lasso),np.std(scores_lasso)))\n",
    "print('Best Alpha:', optimize_lasso.best_estimator_.get_params()['lasso__alpha'])\n",
    "print('Best Number Of Components:', optimize_lasso.best_estimator_.get_params()['pca__n_components'])\n",
    "print(\"done in %0.3fs\" % (time() - t0_lasso))"
   ]
  },
  {
   "cell_type": "code",
   "execution_count": 10,
   "metadata": {},
   "outputs": [
    {
     "name": "stdout",
     "output_type": "stream",
     "text": [
      "CV accuracy: -868.473 +/- 66.235\n",
      "Best Alpha: 10.0\n",
      "Best Number Of Components: 50\n",
      "done in 29.934s\n"
     ]
    }
   ],
   "source": [
    "t0_ridge = time()\n",
    "# create ridge pipeline\n",
    "#\n",
    "# scaler object\n",
    "sc = RobustScaler()\n",
    "# pca object\n",
    "pca = PCA()\n",
    "# regression object\n",
    "ridge = Ridge()\n",
    "\n",
    "# Pipeline of three steps\n",
    "pipeline_ridge = Pipeline(steps=[('sc', sc), \n",
    "                       ('pca', pca), \n",
    "                       ('ridge', ridge)])\n",
    "# ridge parameter space\n",
    "parameters_ridge = {\n",
    "    #'pca__n_components': list(range(1,data_ind.shape[1]+1,1)),\n",
    "    'pca__n_components': [3, 6, 15, 35, 50, 70, 90],\n",
    "    'ridge__alpha': [0.01*int(len(data)), 0.02*int(len(data)), 0.03*int(len(data)), 0.04*int(len(data)), 0.05*int(len(data)), 0.075*int(len(data)),0.1*int(len(data)),0.2*int(len(data)), 0.6*int(len(data)), 1.0*int(len(data))]\n",
    "}\n",
    "# perform 5x2 nested cross validation\n",
    "optimize_ridge = GridSearchCV(pipeline_ridge, parameters_ridge,scoring='neg_root_mean_squared_error', cv=2)\n",
    "# understand features and hyperparams\n",
    "optimize_ridge.fit(data_ind, data_dep)\n",
    "# \n",
    "scores_ridge = cross_val_score(optimize_ridge,data_ind, data_dep, scoring='neg_root_mean_squared_error', cv=5, n_jobs=-1)\n",
    "#\n",
    "print('CV accuracy: %.3f +/- %.3f' % (np.mean(scores_ridge),np.std(scores_ridge)))\n",
    "print('Best Alpha:', optimize_ridge.best_estimator_.get_params()['__alpha'])\n",
    "print('Best Number Of Components:', optimize.best_estimator_.get_params()['pca__n_components'])\n",
    "\n",
    "print(\"done in %0.3fs\" % (time() - t0_ridge))"
   ]
  },
  {
   "cell_type": "code",
   "execution_count": 19,
   "metadata": {
    "scrolled": false
   },
   "outputs": [
    {
     "name": "stdout",
     "output_type": "stream",
     "text": [
      "CV accuracy: -1001.573 +/- 69.773\n",
      "Best C: 50.0\n",
      "Best Number Of Components: 45\n",
      "done in 13.181s\n"
     ]
    }
   ],
   "source": [
    "t0_svr = time()\n",
    "# create svr pipeline\n",
    "#\n",
    "# scaler object\n",
    "sc = RobustScaler()\n",
    "# pca object\n",
    "pca = PCA()\n",
    "# regression object\n",
    "svr = SVR(kernel='sigmoid')\n",
    "\n",
    "# pipeline of three steps\n",
    "pipeline_svr = Pipeline(steps=[('sc', sc), \n",
    "                       ('pca', pca), \n",
    "                       ('svr', svr)])\n",
    "# svr parameter space\n",
    "parameters_svr = {\n",
    "    #'pca__n_components': list(range(1,data_ind.shape[1]+1,1)),\n",
    "    'pca__n_components': [5, 15, 30, 45, 60, 75, 90],\n",
    "    'svr__C': [1.0, 50.0, 100.0]\n",
    "}\n",
    "# perform 5x2 nested cross validation\n",
    "optimize_svr = GridSearchCV(pipeline_svr, parameters_svr,scoring='neg_root_mean_squared_error', cv=2)\n",
    "# understand features and hyperparams\n",
    "optimize_svr.fit(data_ind, data_dep.values.ravel())\n",
    "#\n",
    "scores_svr = cross_val_score(optimize_svr,data_ind, data_dep.values.ravel(), scoring='neg_root_mean_squared_error', cv=5, n_jobs=-1)\n",
    "#\n",
    "print('CV accuracy: %.3f +/- %.3f' % (np.mean(scores_svr),np.std(scores_svr)))\n",
    "print('Best C:', optimize_svr.best_estimator_.get_params()['svr__C'])\n",
    "print('Best Number Of Components:', optimize_svr.best_estimator_.get_params()['pca__n_components'])\n",
    "print(\"done in %0.3fs\" % (time() - t0_svr))"
   ]
  },
  {
   "cell_type": "code",
   "execution_count": 36,
   "metadata": {
    "scrolled": true
   },
   "outputs": [
    {
     "name": "stdout",
     "output_type": "stream",
     "text": [
      "Metric         Lasso     Ridge       SVR  NN\n",
      "Mean_RMSE   -937.411  -868.473  -1001.57  other wb\n",
      "Sigma_RMSE   89.0191   66.2353   69.7732  other wb\n",
      "Time         27774.6   28263.4   25808.4  other wb\n"
     ]
    }
   ],
   "source": [
    "table = [[\"Mean_RMSE\",np.mean(scores_lasso),np.mean(scores_ridge),np.mean(scores_svr),'other wb'],\n",
    "[\"Sigma_RMSE\",np.std(scores_lasso),np.std(scores_ridge),np.std(scores_svr),'other wb'],\n",
    "[\"Time\",(time() - t0_lasso),(time() - t0_ridge),(time() - t0_svr),'other wb']]\n",
    "headers = [\"Metric\", \"Lasso\",\"Ridge\",\"SVR\",\"NN\"]\n",
    "print(tabulate(table, headers, tablefmt=\"plain\",numalign=\"right\"))"
   ]
  },
  {
   "cell_type": "code",
   "execution_count": null,
   "metadata": {},
   "outputs": [],
   "source": []
  }
 ],
 "metadata": {
  "kernelspec": {
   "display_name": "Python 3",
   "language": "python",
   "name": "python3"
  },
  "language_info": {
   "codemirror_mode": {
    "name": "ipython",
    "version": 3
   },
   "file_extension": ".py",
   "mimetype": "text/x-python",
   "name": "python",
   "nbconvert_exporter": "python",
   "pygments_lexer": "ipython3",
   "version": "3.7.9"
  }
 },
 "nbformat": 4,
 "nbformat_minor": 4
}
